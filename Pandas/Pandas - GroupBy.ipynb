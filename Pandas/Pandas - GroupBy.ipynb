{
 "metadata": {
  "language_info": {
   "codemirror_mode": {
    "name": "ipython",
    "version": 3
   },
   "file_extension": ".py",
   "mimetype": "text/x-python",
   "name": "python",
   "nbconvert_exporter": "python",
   "pygments_lexer": "ipython3",
   "version": "3.8.2-final"
  },
  "orig_nbformat": 2,
  "kernelspec": {
   "name": "python_defaultSpec_1598020494779",
   "display_name": "Python 3.8.2 64-bit"
  }
 },
 "nbformat": 4,
 "nbformat_minor": 2,
 "cells": [
  {
   "cell_type": "markdown",
   "metadata": {},
   "source": [
    "# Pandas - GroupBy"
   ]
  },
  {
   "cell_type": "code",
   "execution_count": 1,
   "metadata": {},
   "outputs": [],
   "source": [
    "import numpy as np\n",
    "import pandas as pd"
   ]
  },
  {
   "cell_type": "code",
   "execution_count": 3,
   "metadata": {},
   "outputs": [],
   "source": [
    "data = {\n",
    "    'Class' : ['K18', 'K18', 'K19', 'K19', 'K20', 'K20'],\n",
    "    'Students': ['Trinhdvt', 'NghiaPm', 'KhanhLink', 'AiLink', 'Unknown', 'HotGirl'],\n",
    "    'Point': [9.0, 8.0, 9.0, 9.9, 2.3, 3.4]\n",
    "}\n",
    "df = pd.DataFrame(data)"
   ]
  },
  {
   "cell_type": "code",
   "execution_count": 4,
   "metadata": {},
   "outputs": [
    {
     "output_type": "execute_result",
     "data": {
      "text/plain": "  Class   Students  Point\n0   K18   Trinhdvt    9.0\n1   K18    NghiaPm    8.0\n2   K19  KhanhLink    9.0\n3   K19     AiLink    9.9\n4   K20    Unknown    2.3\n5   K20    HotGirl    3.4",
      "text/html": "<div>\n<style scoped>\n    .dataframe tbody tr th:only-of-type {\n        vertical-align: middle;\n    }\n\n    .dataframe tbody tr th {\n        vertical-align: top;\n    }\n\n    .dataframe thead th {\n        text-align: right;\n    }\n</style>\n<table border=\"1\" class=\"dataframe\">\n  <thead>\n    <tr style=\"text-align: right;\">\n      <th></th>\n      <th>Class</th>\n      <th>Students</th>\n      <th>Point</th>\n    </tr>\n  </thead>\n  <tbody>\n    <tr>\n      <th>0</th>\n      <td>K18</td>\n      <td>Trinhdvt</td>\n      <td>9.0</td>\n    </tr>\n    <tr>\n      <th>1</th>\n      <td>K18</td>\n      <td>NghiaPm</td>\n      <td>8.0</td>\n    </tr>\n    <tr>\n      <th>2</th>\n      <td>K19</td>\n      <td>KhanhLink</td>\n      <td>9.0</td>\n    </tr>\n    <tr>\n      <th>3</th>\n      <td>K19</td>\n      <td>AiLink</td>\n      <td>9.9</td>\n    </tr>\n    <tr>\n      <th>4</th>\n      <td>K20</td>\n      <td>Unknown</td>\n      <td>2.3</td>\n    </tr>\n    <tr>\n      <th>5</th>\n      <td>K20</td>\n      <td>HotGirl</td>\n      <td>3.4</td>\n    </tr>\n  </tbody>\n</table>\n</div>"
     },
     "metadata": {},
     "execution_count": 4
    }
   ],
   "source": [
    "df"
   ]
  },
  {
   "cell_type": "code",
   "execution_count": 7,
   "metadata": {},
   "outputs": [],
   "source": [
    "groupClass = df.groupby('Class')"
   ]
  },
  {
   "cell_type": "markdown",
   "metadata": {},
   "source": [
    "> #### Mean method work only with numeric columns"
   ]
  },
  {
   "cell_type": "code",
   "execution_count": 8,
   "metadata": {},
   "outputs": [
    {
     "output_type": "execute_result",
     "data": {
      "text/plain": "       Point\nClass       \nK18     8.50\nK19     9.45\nK20     2.85",
      "text/html": "<div>\n<style scoped>\n    .dataframe tbody tr th:only-of-type {\n        vertical-align: middle;\n    }\n\n    .dataframe tbody tr th {\n        vertical-align: top;\n    }\n\n    .dataframe thead th {\n        text-align: right;\n    }\n</style>\n<table border=\"1\" class=\"dataframe\">\n  <thead>\n    <tr style=\"text-align: right;\">\n      <th></th>\n      <th>Point</th>\n    </tr>\n    <tr>\n      <th>Class</th>\n      <th></th>\n    </tr>\n  </thead>\n  <tbody>\n    <tr>\n      <th>K18</th>\n      <td>8.50</td>\n    </tr>\n    <tr>\n      <th>K19</th>\n      <td>9.45</td>\n    </tr>\n    <tr>\n      <th>K20</th>\n      <td>2.85</td>\n    </tr>\n  </tbody>\n</table>\n</div>"
     },
     "metadata": {},
     "execution_count": 8
    }
   ],
   "source": [
    "groupClass.mean()"
   ]
  },
  {
   "cell_type": "code",
   "execution_count": 9,
   "metadata": {},
   "outputs": [
    {
     "output_type": "execute_result",
     "data": {
      "text/plain": "       Students  Point\nClass                 \nK18           2      2\nK19           2      2\nK20           2      2",
      "text/html": "<div>\n<style scoped>\n    .dataframe tbody tr th:only-of-type {\n        vertical-align: middle;\n    }\n\n    .dataframe tbody tr th {\n        vertical-align: top;\n    }\n\n    .dataframe thead th {\n        text-align: right;\n    }\n</style>\n<table border=\"1\" class=\"dataframe\">\n  <thead>\n    <tr style=\"text-align: right;\">\n      <th></th>\n      <th>Students</th>\n      <th>Point</th>\n    </tr>\n    <tr>\n      <th>Class</th>\n      <th></th>\n      <th></th>\n    </tr>\n  </thead>\n  <tbody>\n    <tr>\n      <th>K18</th>\n      <td>2</td>\n      <td>2</td>\n    </tr>\n    <tr>\n      <th>K19</th>\n      <td>2</td>\n      <td>2</td>\n    </tr>\n    <tr>\n      <th>K20</th>\n      <td>2</td>\n      <td>2</td>\n    </tr>\n  </tbody>\n</table>\n</div>"
     },
     "metadata": {},
     "execution_count": 9
    }
   ],
   "source": [
    "groupClass.count()"
   ]
  },
  {
   "cell_type": "code",
   "execution_count": 12,
   "metadata": {},
   "outputs": [
    {
     "output_type": "execute_result",
     "data": {
      "text/plain": "       Point\nClass       \nK18     17.0\nK19     18.9\nK20      5.7",
      "text/html": "<div>\n<style scoped>\n    .dataframe tbody tr th:only-of-type {\n        vertical-align: middle;\n    }\n\n    .dataframe tbody tr th {\n        vertical-align: top;\n    }\n\n    .dataframe thead th {\n        text-align: right;\n    }\n</style>\n<table border=\"1\" class=\"dataframe\">\n  <thead>\n    <tr style=\"text-align: right;\">\n      <th></th>\n      <th>Point</th>\n    </tr>\n    <tr>\n      <th>Class</th>\n      <th></th>\n    </tr>\n  </thead>\n  <tbody>\n    <tr>\n      <th>K18</th>\n      <td>17.0</td>\n    </tr>\n    <tr>\n      <th>K19</th>\n      <td>18.9</td>\n    </tr>\n    <tr>\n      <th>K20</th>\n      <td>5.7</td>\n    </tr>\n  </tbody>\n</table>\n</div>"
     },
     "metadata": {},
     "execution_count": 12
    }
   ],
   "source": [
    "groupClass.sum()"
   ]
  },
  {
   "cell_type": "code",
   "execution_count": 15,
   "metadata": {},
   "outputs": [
    {
     "output_type": "execute_result",
     "data": {
      "text/plain": "Class             K18       K19       K20\nPoint count  2.000000  2.000000  2.000000\n      mean   8.500000  9.450000  2.850000\n      std    0.707107  0.636396  0.777817\n      min    8.000000  9.000000  2.300000\n      25%    8.250000  9.225000  2.575000\n      50%    8.500000  9.450000  2.850000\n      75%    8.750000  9.675000  3.125000\n      max    9.000000  9.900000  3.400000",
      "text/html": "<div>\n<style scoped>\n    .dataframe tbody tr th:only-of-type {\n        vertical-align: middle;\n    }\n\n    .dataframe tbody tr th {\n        vertical-align: top;\n    }\n\n    .dataframe thead th {\n        text-align: right;\n    }\n</style>\n<table border=\"1\" class=\"dataframe\">\n  <thead>\n    <tr style=\"text-align: right;\">\n      <th></th>\n      <th>Class</th>\n      <th>K18</th>\n      <th>K19</th>\n      <th>K20</th>\n    </tr>\n  </thead>\n  <tbody>\n    <tr>\n      <th rowspan=\"8\" valign=\"top\">Point</th>\n      <th>count</th>\n      <td>2.000000</td>\n      <td>2.000000</td>\n      <td>2.000000</td>\n    </tr>\n    <tr>\n      <th>mean</th>\n      <td>8.500000</td>\n      <td>9.450000</td>\n      <td>2.850000</td>\n    </tr>\n    <tr>\n      <th>std</th>\n      <td>0.707107</td>\n      <td>0.636396</td>\n      <td>0.777817</td>\n    </tr>\n    <tr>\n      <th>min</th>\n      <td>8.000000</td>\n      <td>9.000000</td>\n      <td>2.300000</td>\n    </tr>\n    <tr>\n      <th>25%</th>\n      <td>8.250000</td>\n      <td>9.225000</td>\n      <td>2.575000</td>\n    </tr>\n    <tr>\n      <th>50%</th>\n      <td>8.500000</td>\n      <td>9.450000</td>\n      <td>2.850000</td>\n    </tr>\n    <tr>\n      <th>75%</th>\n      <td>8.750000</td>\n      <td>9.675000</td>\n      <td>3.125000</td>\n    </tr>\n    <tr>\n      <th>max</th>\n      <td>9.000000</td>\n      <td>9.900000</td>\n      <td>3.400000</td>\n    </tr>\n  </tbody>\n</table>\n</div>"
     },
     "metadata": {},
     "execution_count": 15
    }
   ],
   "source": [
    "groupClass.describe().transpose()"
   ]
  },
  {
   "cell_type": "code",
   "execution_count": null,
   "metadata": {},
   "outputs": [],
   "source": []
  }
 ]
}